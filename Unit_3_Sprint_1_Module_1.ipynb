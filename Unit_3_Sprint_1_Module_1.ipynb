{
  "nbformat": 4,
  "nbformat_minor": 0,
  "metadata": {
    "colab": {
      "name": "Unit 3 Sprint 1 Module 1.ipynb",
      "version": "0.3.2",
      "provenance": [],
      "include_colab_link": true
    },
    "kernelspec": {
      "name": "python3",
      "display_name": "Python 3"
    }
  },
  "cells": [
    {
      "cell_type": "markdown",
      "metadata": {
        "id": "view-in-github",
        "colab_type": "text"
      },
      "source": [
        "<a href=\"https://colab.research.google.com/github/elizabethts/DS-Unit-3-Sprint-1-Software-Engineering/blob/master/Unit_3_Sprint_1_Module_1.ipynb\" target=\"_parent\"><img src=\"https://colab.research.google.com/assets/colab-badge.svg\" alt=\"Open In Colab\"/></a>"
      ]
    },
    {
      "cell_type": "code",
      "metadata": {
        "id": "5fZX6Iq9VW2b",
        "colab_type": "code",
        "colab": {}
      },
      "source": [
        "import pandas as pd\n",
        "import numpy as np"
      ],
      "execution_count": 0,
      "outputs": []
    },
    {
      "cell_type": "code",
      "metadata": {
        "id": "-7BiJU0NEFyh",
        "colab_type": "code",
        "colab": {
          "base_uri": "https://localhost:8080/",
          "height": 191
        },
        "outputId": "b3da9ca3-ffbd-428b-d70c-847affdd0e10"
      },
      "source": [
        "!pip install --index-url https://test.pypi.org/simple/ --no-deps lambdata_elizabethts==0.0.11"
      ],
      "execution_count": 2,
      "outputs": [
        {
          "output_type": "stream",
          "text": [
            "Looking in indexes: https://test.pypi.org/simple/\n",
            "Collecting lambdata_elizabethts==0.0.11\n",
            "  Downloading https://test-files.pythonhosted.org/packages/80/33/befb3ecebb12c2ea45ed10bd74c958cc35cad18c06bd8ab635c18277725b/lambdata_elizabethts-0.0.11-py3-none-any.whl\n",
            "Installing collected packages: lambdata-elizabethts\n",
            "Successfully installed lambdata-elizabethts-0.0.11\n"
          ],
          "name": "stdout"
        }
      ]
    },
    {
      "cell_type": "code",
      "metadata": {
        "id": "rt2tufyjpJK8",
        "colab_type": "code",
        "colab": {}
      },
      "source": [
        "import lambdata_elizabethts as ld"
      ],
      "execution_count": 0,
      "outputs": []
    },
    {
      "cell_type": "code",
      "metadata": {
        "id": "aa6lh05ipg82",
        "colab_type": "code",
        "colab": {
          "base_uri": "https://localhost:8080/",
          "height": 34
        },
        "outputId": "24f7dc64-4e43-41b7-8e4d-806f85a34852"
      },
      "source": [
        "ld.myName"
      ],
      "execution_count": 4,
      "outputs": [
        {
          "output_type": "execute_result",
          "data": {
            "text/plain": [
              "'Elizabeth Ter Sahakyan'"
            ]
          },
          "metadata": {
            "tags": []
          },
          "execution_count": 4
        }
      ]
    },
    {
      "cell_type": "code",
      "metadata": {
        "id": "F1DnyEulkpuh",
        "colab_type": "code",
        "colab": {
          "base_uri": "https://localhost:8080/",
          "height": 255
        },
        "outputId": "1926e96d-d5a0-4677-c70b-e60c30e860d8"
      },
      "source": [
        "dir(ld)"
      ],
      "execution_count": 5,
      "outputs": [
        {
          "output_type": "execute_result",
          "data": {
            "text/plain": [
              "['__builtins__',\n",
              " '__cached__',\n",
              " '__doc__',\n",
              " '__file__',\n",
              " '__loader__',\n",
              " '__name__',\n",
              " '__package__',\n",
              " '__path__',\n",
              " '__spec__',\n",
              " 'checknull',\n",
              " 'myName',\n",
              " 'name',\n",
              " 'new_list',\n",
              " 'sample_df']"
            ]
          },
          "metadata": {
            "tags": []
          },
          "execution_count": 5
        }
      ]
    },
    {
      "cell_type": "code",
      "metadata": {
        "id": "CiMvzA6taGRy",
        "colab_type": "code",
        "colab": {}
      },
      "source": [
        "df = pd.DataFrame( [1,2,3],\n",
        "              [4,5,6])"
      ],
      "execution_count": 0,
      "outputs": []
    },
    {
      "cell_type": "code",
      "metadata": {
        "id": "RsL2FWiOdTn_",
        "colab_type": "code",
        "colab": {
          "base_uri": "https://localhost:8080/",
          "height": 51
        },
        "outputId": "c93adfb9-6cbd-489f-90ed-51462049ca33"
      },
      "source": [
        "ld.checknull(df)"
      ],
      "execution_count": 9,
      "outputs": [
        {
          "output_type": "execute_result",
          "data": {
            "text/plain": [
              "0    0\n",
              "dtype: int64"
            ]
          },
          "metadata": {
            "tags": []
          },
          "execution_count": 9
        }
      ]
    }
  ]
}